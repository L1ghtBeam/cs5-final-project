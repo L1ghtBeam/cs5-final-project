{
 "cells": [
  {
   "cell_type": "markdown",
   "metadata": {},
   "source": [
    "# ML Analysis\n",
    "\n",
    "## Imports\n",
    "\n",
    "- sklearn\n",
    "- numpy"
   ]
  },
  {
   "cell_type": "code",
   "execution_count": 2,
   "metadata": {},
   "outputs": [],
   "source": [
    "import sklearn\n",
    "import numpy as np"
   ]
  },
  {
   "cell_type": "markdown",
   "metadata": {},
   "source": [
    "## Reading Data into Datasets\n",
    "\n",
    "To make storing and using our data more efficient, and because `sklearn` uses numpy, we will load our data into numpy arrays instead of regular python arrays. Luckily, this is pretty easily done using the `loadtext` numpy function.\n",
    "\n",
    "Let's create a utility function so we can easily grab $X$ and $y$."
   ]
  },
  {
   "cell_type": "code",
   "execution_count": 20,
   "metadata": {},
   "outputs": [],
   "source": [
    "BATCH_DIRNAME = 'batches'\n",
    "\n",
    "def get_batch(batch: str) -> tuple[np.array, np.array]:\n",
    "    X = np.loadtxt(f'{BATCH_DIRNAME}\\\\{batch}.csv', delimiter=',', usecols=(1,2,3,4,5,6,7,8))\n",
    "    y = np.loadtxt(f'{BATCH_DIRNAME}\\\\{batch}.csv', delimiter=',', usecols=(9))\n",
    "    return X, y"
   ]
  },
  {
   "cell_type": "code",
   "execution_count": 21,
   "metadata": {},
   "outputs": [
    {
     "name": "stdout",
     "output_type": "stream",
     "text": [
      "first line:\n",
      "features: [1210.40492639 1213.02863786 1171.05709319 1252.43329795 1311.78709141\n",
      " 1134.0426267  1224.20189759 1174.29643889] label: 0.0\n",
      "\n",
      "last line:\n",
      "features: [1224.53449101 1229.01082112 1192.25245912 1155.44636828 1251.97486078\n",
      " 1309.55508442 1161.8690622  1198.93541254] label: 0.0\n",
      "\n",
      "fourth last line:\n",
      "features: [1247.5890092  1148.12047806 1339.2792588  1325.48466976 1441.76044124\n",
      " 1219.12120178 1328.84213757 1195.64984241] label: 1.0\n"
     ]
    }
   ],
   "source": [
    "X, y = get_batch('all')\n",
    "print('first line:')\n",
    "print('features:', X[0], 'label:', y[0])\n",
    "print('\\nlast line:')\n",
    "print('features:', X[-1], 'label:', y[-1])\n",
    "print('\\nfourth last line:')\n",
    "print('features:', X[-4], 'label:', y[-4])"
   ]
  },
  {
   "cell_type": "markdown",
   "metadata": {},
   "source": [
    "## Logistic Regression\n",
    "\n",
    "The first algorithm we will use to analyze the data is using logistic regression."
   ]
  },
  {
   "cell_type": "code",
   "execution_count": 22,
   "metadata": {},
   "outputs": [],
   "source": [
    "from sklearn.linear_model import LogisticRegression\n",
    "X, y = get_batch('all')\n",
    "clf = LogisticRegression().fit(X, y)"
   ]
  },
  {
   "cell_type": "code",
   "execution_count": 33,
   "metadata": {},
   "outputs": [
    {
     "name": "stdout",
     "output_type": "stream",
     "text": [
      "[1. 0. 1. 0. 1.]\n",
      "[[0.48386419 0.51613581]\n",
      " [0.63631611 0.36368389]\n",
      " [0.27485614 0.72514386]\n",
      " [0.5875905  0.4124095 ]\n",
      " [0.3587525  0.6412475 ]]\n",
      "\n",
      "[1. 1. 0. 1. 1.]\n",
      "[[0.243994   0.756006  ]\n",
      " [0.32961014 0.67038986]\n",
      " [0.87589573 0.12410427]\n",
      " [0.37776647 0.62223353]\n",
      " [0.35138978 0.64861022]]\n",
      "\n",
      "score: 0.7194719471947195\n"
     ]
    }
   ],
   "source": [
    "print(clf.predict(X[:5, :]))\n",
    "print(clf.predict_proba(X[:5, :]))\n",
    "\n",
    "print()\n",
    "\n",
    "print(clf.predict(X[-5:, :]))\n",
    "print(clf.predict_proba(X[-5:, :]))\n",
    "\n",
    "print()\n",
    "print('score:', clf.score(X,y))"
   ]
  },
  {
   "cell_type": "code",
   "execution_count": 38,
   "metadata": {},
   "outputs": [
    {
     "name": "stdout",
     "output_type": "stream",
     "text": [
      "score: 0.7519704433497537\n"
     ]
    }
   ],
   "source": [
    "X1, y1 = get_batch('season_1')\n",
    "clf1 = LogisticRegression().fit(X, y)\n",
    "\n",
    "print('score:', clf.score(X1, y1))"
   ]
  },
  {
   "cell_type": "code",
   "execution_count": 48,
   "metadata": {},
   "outputs": [
    {
     "name": "stdout",
     "output_type": "stream",
     "text": [
      "[[0.47894058 0.52105942]\n",
      " [0.43918388 0.56081612]\n",
      " [0.45823215 0.54176785]\n",
      " [0.49712757 0.50287243]\n",
      " [0.42695033 0.57304967]]\n"
     ]
    }
   ],
   "source": [
    "print(clf.predict_proba([[1500,1500,1500,1500,1500,1500,1500,1500],\n",
    "                         [1100,1300,1700,1900,1500,1500,1500,1500],\n",
    "                         [1500,1500,1500,1500,1100,1300,1700,1900],\n",
    "                         [1400,1400,1800,1400,1500,1500,1500,1500],\n",
    "                         [1500,1500,1500,1500,1400,1400,1800,1400]]))"
   ]
  }
 ],
 "metadata": {
  "kernelspec": {
   "display_name": "Python 3",
   "language": "python",
   "name": "python3"
  },
  "language_info": {
   "codemirror_mode": {
    "name": "ipython",
    "version": 3
   },
   "file_extension": ".py",
   "mimetype": "text/x-python",
   "name": "python",
   "nbconvert_exporter": "python",
   "pygments_lexer": "ipython3",
   "version": "3.12.1"
  }
 },
 "nbformat": 4,
 "nbformat_minor": 2
}
