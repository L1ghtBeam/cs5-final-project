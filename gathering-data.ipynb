{
 "cells": [
  {
   "cell_type": "markdown",
   "metadata": {},
   "source": [
    "# Gathering Data\n",
    "\n",
    "## Imports\n",
    "\n",
    "- requests: Necessary to pull data from the internet.\n",
    "- time: Used to separate our data using time intervals.\n",
    "- json: Allow us to decode json information obtained from the data source.\n",
    "- math: Allow us to use $\\log$ to determine how long a binary search will take."
   ]
  },
  {
   "cell_type": "code",
   "execution_count": 29,
   "metadata": {},
   "outputs": [],
   "source": [
    "import requests\n",
    "import time\n",
    "import json\n",
    "import math"
   ]
  },
  {
   "cell_type": "markdown",
   "metadata": {},
   "source": [
    "## Pre-Info\n",
    "\n",
    "Data for this project will be obtained from SendouQ match data, found at `https://sendou.ink/q/match/[ID]`. The ID numbers increase sequentially, with the first match ever having an ID of 1, and the current last match (at the time of writing) having an ID around 45400.\n",
    "\n",
    "I use a sample match from my most recent one at the time, which can be found with ID [45359](https://sendou.ink/q/match/45359).\n",
    "\n",
    "The data we're interested in is only two things, the score of every player in the game, and the result of the match. Since this information is shown on the screen, it should be possible to extract this data from the page source.\n",
    "\n",
    "Looking at the page source, it's not easily decipherable at first glance, especially since I have little knowledge of web-dev. However, after some investigation, there is some json data which contains the data we're looking for which can be found immediately after the phrase `\"features/sendouq/routes/q.match.$id\":` and taking the next text until the bracket ends."
   ]
  },
  {
   "cell_type": "code",
   "execution_count": 36,
   "metadata": {},
   "outputs": [
    {
     "name": "stdout",
     "output_type": "stream",
     "text": [
      "{\"match\":{\"id\":45643,\"alphaGroupId\":379223,\"bravoGroupId\":379231,\"createdAt\":1714871261,\"reportedAt\":null,\"reportedByUserId\":null,\"memento\":{\"modePreferences\":{\"SZ\":[{\"userId\":27094,\"preference\":\"PREFER\"},{\"userId\":23509,\"preference\":\"PREFER\"},{\"userId\":9800,\"preference\":\"PREFER\"},{\"userId\":41674}],\"TC\":[{\"userId\":27094,\"preference\":\"PREFER\"},{\"userId\":23509},{\"userId\":9800},{\"userId\":41674}],\"RM\":[{\"userId\":27094,\"preference\":\"PREFER\"},{\"userId\":23509,\"preference\":\"AVOID\"},{\"userId\":9800,\"preference\":\"PREFER\"},{\"userId\":41674}],\"CB\":[{\"userId\":27094,\"preference\":\"PREFER\"},{\"userId\":23509},{\"userId\":9800},{\"userId\":41674}]},\"pools\":[{\"userId\":27094,\"pool\":[{\"stages\":[2,7,10,15,16,17,21],\"mode\":\"SZ\"},{\"stages\":[2,3,6,8,9,10,19],\"mode\":\"TC\"},{\"stages\":[0,2,6,10,16,17,19],\"mode\":\"RM\"},{\"stages\":[0,2,6,8,10,15,17],\"mode\":\"CB\"}]},{\"userId\":7994,\"pool\":[{\"stages\":[0,1,2,5,8,9,10],\"mode\":\"TW\"},{\"stages\":[6,8,10,14,15,16,21],\"mode\":\"SZ\"},{\"stages\":[2,8,9,10,14,16,20],\"mode\":\"TC\"},{\"stages\":[2,6,7,10,14,16,17],\"mode\":\"RM\"},{\"stages\":[0,2,7,8,13,14,15],\"mode\":\"CB\"}]},{\"userId\":23509,\"pool\":[{\"stages\":[2,6,10,14,17,18,21],\"mode\":\"CB\"},{\"stages\":[2,3,4,6,7,10,17],\"mode\":\"SZ\"},{\"stages\":[2,3,6,9,10,14,19],\"mode\":\"TC\"}]},{\"userId\":9800,\"pool\":[{\"stages\":[0,2,6,13,15,16,18],\"mode\":\"CB\"},{\"stages\":[2,3,6,9,10,19,22],\"mode\":\"TC\"},{\"stages\":[0,3,14,16,18,19,21],\"mode\":\"RM\"},{\"stages\":[2,7,8,10,16,17,22],\"mode\":\"SZ\"}]},{\"userId\":41674,\"pool\":[{\"stages\":[2,5,6,7,8,9,17],\"mode\":\"SZ\"},{\"stages\":[2,6,8,9,10,19,21],\"mode\":\"TC\"},{\"stages\":[0,2,3,6,10,17,18],\"mode\":\"RM\"},{\"stages\":[0,2,6,7,8,10,18],\"mode\":\"CB\"}]}],\"users\":{\"7235\":{\"skill\":{\"ordinal\":14.033192082377084,\"tier\":{\"name\":\"GOLD\",\"isPlus\":true},\"approximate\":false}},\"7994\":{\"skill\":{\"ordinal\":-0.3563446727273707,\"tier\":{\"name\":\"IRON\",\"isPlus\":true},\"approximate\":false}},\"9800\":{\"skill\":{\"ordinal\":10.555123338819975,\"tier\":{\"name\":\"GOLD\",\"isPlus\":false},\"approximate\":false}},\"23509\":{\"skill\":{\"ordinal\":6.119543971572334,\"tier\":{\"name\":\"SILVER\",\"isPlus\":false},\"approximate\":false}},\"27094\":{\"skill\":{\"ordinal\":0.7657641657785703,\"tier\":{\"name\":\"BRONZE\",\"isPlus\":false},\"approximate\":false}},\"38541\":{\"skill\":{\"ordinal\":-7.3597592404921315,\"tier\":{\"name\":\"IRON\",\"isPlus\":false},\"approximate\":false}},\"41284\":{\"skill\":{\"ordinal\":8.163049351530088,\"tier\":{\"name\":\"SILVER\",\"isPlus\":true},\"approximate\":false}},\"41674\":{\"skill\":\"CALCULATING\"}},\"groups\":{\"379223\":{\"tier\":{\"name\":\"SILVER\",\"isPlus\":false}},\"379231\":{\"tier\":{\"name\":\"BRONZE\",\"isPlus\":true}}}},\"isLocked\":0,\"mapList\":[{\"id\":319495,\"mode\":\"SZ\",\"stageId\":6,\"source\":\"379223\",\"winnerGroupId\":null},{\"id\":319496,\"mode\":\"TC\",\"stageId\":22,\"source\":\"379231\",\"winnerGroupId\":null},{\"id\":319497,\"mode\":\"RM\",\"stageId\":16,\"source\":\"379223\",\"winnerGroupId\":null},{\"id\":319498,\"mode\":\"CB\",\"stageId\":0,\"source\":\"379231\",\"winnerGroupId\":null},{\"id\":319499,\"mode\":\"SZ\",\"stageId\":8,\"source\":\"BOTH\",\"winnerGroupId\":null},{\"id\":319500,\"mode\":\"TC\",\"stageId\":10,\"source\":\"379223\",\"winnerGroupId\":null},{\"id\":319501,\"mode\":\"RM\",\"stageId\":18,\"source\":\"379231\",\"winnerGroupId\":null}]},\"matchChatCode\":null,\"canPostChatMessages\":false,\"groupChatCode\":null,\"groupAlpha\":{\"id\":379223,\"tier\":{\"name\":\"SILVER\",\"isPlus\":false},\"team\":null,\"members\":[{\"id\":7235,\"discordName\":\"saberrr\",\"discordId\":\"410342922253500416\",\"discordAvatar\":\"4523fc78d67f92b5ed054a991108abb3\",\"customUrl\":null,\"role\":\"MANAGER\",\"inGameName\":\"saberrr#1827\",\"vc\":\"YES\",\"languages\":[\"en\",\"fr\"],\"weapons\":[40,400,401],\"privateNote\":null,\"chatNameColor\":null,\"skill\":{\"ordinal\":14.033192082377084,\"tier\":{\"name\":\"GOLD\",\"isPlus\":true},\"approximate\":false}},{\"id\":7994,\"discordName\":\"Typh\",\"discordId\":\"372535517331324938\",\"discordAvatar\":\"a_107e738247df6bb297359fc49c64b005\",\"customUrl\":\"typhaf\",\"role\":\"OWNER\",\"inGameName\":\"ò«Typh#7262\",\"vc\":\"YES\",\"languages\":[\"en\"],\"weapons\":[1030,1001,45,60],\"privateNote\":null,\"chatNameColor\":null,\"skill\":{\"ordinal\":-0.3563446727273707,\"tier\":{\"name\":\"IRON\",\"isPlus\":true},\"approximate\":false}},{\"id\":27094,\"discordName\":\"ASTRO DWARF\",\"discordId\":\"751912670403362836\",\"discordAvatar\":\"e89a049a053089878814f0c38fab1bd9\",\"customUrl\":\"astrodwarf\",\"role\":\"MANAGER\",\"inGameName\":\"ò«Astro#2375\",\"vc\":\"YES\",\"languages\":[\"en\"],\"weapons\":[2070,4050,220,261],\"privateNote\":null,\"chatNameColor\":null,\"skill\":{\"ordinal\":0.7657641657785703,\"tier\":{\"name\":\"BRONZE\",\"isPlus\":false},\"approximate\":false}},{\"id\":41284,\"discordName\":\"Kincho\",\"discordId\":\"717121411013017630\",\"discordAvatar\":\"88daea7ccbc22051b300f4d6616604e7\",\"customUrl\":null,\"role\":\"MANAGER\",\"inGameName\":null,\"vc\":\"YES\",\"languages\":[\"en\"],\"weapons\":[261,220,241],\"privateNote\":null,\"chatNameColor\":null,\"skill\":{\"ordinal\":8.163049351530088,\"tier\":{\"name\":\"SILVER\",\"isPlus\":true},\"approximate\":false}}]},\"groupBravo\":{\"id\":379231,\"tier\":{\"name\":\"BRONZE\",\"isPlus\":true},\"team\":null,\"members\":[{\"id\":9800,\"discordName\":\"Monga\",\"discordId\":\"444035945520693248\",\"discordAvatar\":\"0122cd811d7fc25b9ed6be4610dabe4c\",\"customUrl\":null,\"role\":\"OWNER\",\"inGameName\":\"Monga#3014\",\"vc\":\"YES\",\"languages\":[\"en\"],\"weapons\":[1010,8010,5011],\"privateNote\":null,\"chatNameColor\":null,\"skill\":{\"ordinal\":10.555123338819975,\"tier\":{\"name\":\"GOLD\",\"isPlus\":false},\"approximate\":false}},{\"id\":23509,\"discordName\":\"Jamy\",\"discordId\":\"232139119017328642\",\"discordAvatar\":\"5a6009a35f0046bc3fc2dc104405ea22\",\"customUrl\":null,\"role\":\"MANAGER\",\"inGameName\":\"Jam #3303\",\"vc\":\"YES\",\"languages\":[],\"weapons\":[8000,3020,3005],\"privateNote\":null,\"chatNameColor\":null,\"skill\":{\"ordinal\":6.119543971572334,\"tier\":{\"name\":\"SILVER\",\"isPlus\":false},\"approximate\":false}},{\"id\":38541,\"discordName\":\"Lo\",\"discordId\":\"466239857778360320\",\"discordAvatar\":\"11421f29e1d88338eab35d22869b2808\",\"customUrl\":null,\"role\":\"MANAGER\",\"inGameName\":null,\"vc\":\"YES\",\"languages\":[\"en\",\"es\",\"fr\"],\"weapons\":null,\"privateNote\":null,\"chatNameColor\":null,\"skill\":{\"ordinal\":-7.3597592404921315,\"tier\":{\"name\":\"IRON\",\"isPlus\":false},\"approximate\":false}},{\"id\":41674,\"discordName\":\"QOOQIE\",\"discordId\":\"1066184670162714685\",\"discordAvatar\":\"555728330b3094c3cd9fe5676590c12f\",\"customUrl\":null,\"role\":\"MANAGER\",\"inGameName\":null,\"vc\":\"LISTEN_ONLY\",\"languages\":[\"en\"],\"weapons\":[1100],\"privateNote\":null,\"chatNameColor\":null,\"skill\":\"CALCULATING\"}]},\"banScreen\":true,\"groupMemberOf\":null,\"reportedWeapons\":null,\"rawReportedWeapons\":null}\n"
     ]
    }
   ],
   "source": [
    "match_ID = '45359'\n",
    "\n",
    "def get_match(match_ID):\n",
    "    # grab the data from the page\n",
    "    r = requests.get('https://sendou.ink/q/match/' + match_ID)\n",
    "    start_phrase = '\"features/sendouq/routes/q.match.$id\":'\n",
    "\n",
    "    # find the start_phrase in the result\n",
    "    start_index = r.text.find(start_phrase)\n",
    "\n",
    "    # copy all text after the start_phrase\n",
    "    data = r.text[start_index + len(start_phrase):]\n",
    "\n",
    "    # find the end_index by looking for balanced parentheses\n",
    "    open_parentheses = 0\n",
    "    for i, c in enumerate(data):\n",
    "        if c == '{':\n",
    "            open_parentheses += 1\n",
    "        elif c == '}':\n",
    "            open_parentheses -= 1\n",
    "        if open_parentheses == 0:\n",
    "            break\n",
    "    end_index = i + 1\n",
    "\n",
    "    # trim off the extra data\n",
    "    return data[:end_index]\n",
    "\n",
    "# print out data (use an external tool to visualize the json like https://codebeautify.org/jsonviewer)\n",
    "print(get_match(match_ID))"
   ]
  },
  {
   "cell_type": "markdown",
   "metadata": {},
   "source": [
    "Visualize the data above on any json visualizer, I personally used [jsonbeautifier](https://jsonbeautifier.org/). \n",
    "\n",
    "### Finding player ratings\n",
    "\n",
    "The first data we want to obtain is the ratings of the players. This can be found at `groupAlpha.members[0-3].skill.ordinal` for the left team, and replace `groupAlpha` with `groupBeta` for the right team.\n",
    "\n",
    "However, this value is not what we might expect. From the website, player ratings, which can be seen by clicking on the pictures of the ranks, show a number around 1200-1700. However, the value in data is a smaller number between 0-50. Therefore, there must be some conversion to obtain the rating from the ordinal.\n",
    "\n",
    "We can compare ordinals vs. ratings to see how we can write a conversion function. This data is mostly from the game I was using above, and then some data from the match with the ID right before (ID: `45359`).\n",
    "\n",
    "| ordinal $(o)$ | rating $(\\mathrm R)$ |\n",
    "|---|---|\n",
    "|23.189129414253898|1348|\n",
    "|25.8303791446169|1387|\n",
    "|23.431072851780918|1351|\n",
    "|19.726415339139816|1296|\n",
    "|29.049225431933444|1436|\n",
    "|24.00009753744956|1360|\n",
    "|38.153938142944824|1572|\n",
    "|31.82404177844055|1477|\n",
    "|11.527993868993082|1173|\n",
    "|7.477124875867283|1112|\n",
    "\n",
    "If you graph this data, you can find a linear correlation, with the only error being a very small rounding error. Thus, we can create a function to convert from ordinal to rating.\n",
    "$$\\operatorname R(o) = 15o + 1000$$\n",
    "\n",
    "### Finding the winner of the match\n",
    "\n",
    "The second data we want to obtain is the winner of the match. There seem to be two ways to do this. The first way, and what I expected the website does to display the winner, is to check `match.mapList[0-6].winnerGroupId`, which gives the ID of the team which won each game of the match. This ID can be checked against `alphaGroupId` or `bravoGroupId` to see which team was the winner. The team that won the most maps is the winner of the match.\n",
    "\n",
    "However, there is an easier, second way to find the information we want. Since we don't care about the actual score of the game, just the winner, we can check `groupAlpha.members[0].skillDifference.spDiff`. If this value is positive, then the first team was the winner, and if it's negative then the second team won. This is because this value contains the amount of points gained or lost as a result of the match, and since the team that wins will always gain points, and the team that loses will always lose points, this can be used to determine the result of the match.\n",
    "\n",
    "There are times when the second method will not work. This is when the players do not have ratings before the match started, since there won't be a gain or loss of points when the match ends. However, for this project, we must ignore matches where not all players have a rank, since the ranks of all players is important for our data. Thus, this method should always work for finding the result of the match."
   ]
  },
  {
   "cell_type": "code",
   "execution_count": 18,
   "metadata": {},
   "outputs": [
    {
     "name": "stdout",
     "output_type": "stream",
     "text": [
      "Alpha won this game\n"
     ]
    }
   ],
   "source": [
    "match_ID = '45359'\n",
    "\n",
    "json_data = json.loads(get_match(match_ID))\n",
    "alpha_won = json_data['groupAlpha']['members'][0]['skillDifference']['spDiff'] > 0\n",
    "\n",
    "if alpha_won:\n",
    "    print(\"Alpha\", end='')\n",
    "else:\n",
    "    print(\"Bravo\", end='')\n",
    "print(\" won this game\")"
   ]
  },
  {
   "cell_type": "markdown",
   "metadata": {},
   "source": [
    "### Finding match time\n",
    "\n",
    "We already have all the data we strictly need. However, it can be good to split our data into certain time intervals. For example, SendouQ is split into different season, which are periods of time where the service is active. Between seasons, rating data is partially reset, so at the beginning of seasons might give more noisy and unreliable data. Additionally, some time during season 1 and between October 2nd and October 5th, ratings were added to the match history. Matches before these ones will not have rating data to be pulled.\n",
    "\n",
    "We want to separate our data and see how different seasons might give different results. Additionally, removing the first two weeks of each seasons may provide useful to get cleaner data.\n",
    "\n",
    "The creation date of each match is stored at `match.createdAt`. This is stored as seconds since the epoch, which can be converted and compared in python pretty easily."
   ]
  },
  {
   "cell_type": "code",
   "execution_count": 24,
   "metadata": {},
   "outputs": [
    {
     "name": "stdout",
     "output_type": "stream",
     "text": [
      "05/02/24, 07:00 PM\n"
     ]
    }
   ],
   "source": [
    "match_ID = '45359'\n",
    "\n",
    "json_data = json.loads(get_match(match_ID))\n",
    "local_time = time.localtime(json_data['match']['createdAt'])\n",
    "\n",
    "print(time.strftime('%x, %I:%M %p', local_time))"
   ]
  },
  {
   "cell_type": "markdown",
   "metadata": {},
   "source": [
    "## Finding Intervals\n",
    "*All code cells below are necessary to run for the algorithm at the bottom of the notebook to work.*\n",
    "\n",
    "Before we start writing algorithms to grab data, we need to consider possibly getting rate limited or ip-banned, which we would like to avoid. Since we're going to be pinging the server many times, it's important to space our requests out so we don't overload the server. To do this, we will define a class which will wrap around the `requests.get` function. This class will regulate our usage based on time, and stop us from potentially spamming the server.\n",
    "\n",
    "The `SafeRequester` class is initialized with a time interval in *seconds*, which we should wait between requests. Its only member function is `SafeRequester.get(...)`, which takes the same parameters that `requests.get(...)` will."
   ]
  },
  {
   "cell_type": "code",
   "execution_count": 40,
   "metadata": {},
   "outputs": [],
   "source": [
    "REQUEST_INTERVAL = 2\n",
    "\n",
    "class SafeRequester:\n",
    "    def __init__(self, interval):\n",
    "        self.last_request = time.monotonic()\n",
    "        self.interval = interval\n",
    "\n",
    "    def get(self, *args, **kwargs) -> requests.Response:\n",
    "        current_time = time.monotonic()\n",
    "        time_diff = current_time - self.last_request\n",
    "\n",
    "        # if we haven't waited all of the time interval yet, sleep the remaining\n",
    "        # amount of time before requesting\n",
    "        while time_diff < self.interval:\n",
    "            time.sleep(self.interval - time_diff) \n",
    "            current_time = time.monotonic()\n",
    "            time_diff = current_time - self.last_request\n",
    "        \n",
    "        self.last_request = current_time\n",
    "        return requests.get(*args, **kwargs)\n",
    "\n",
    "requester = SafeRequester(REQUEST_INTERVAL)"
   ]
  },
  {
   "cell_type": "markdown",
   "metadata": {},
   "source": [
    "Before we do anything else, let's redefine our `get_match` function from earlier to use this new class. Additionally, split the function into two for when we want to get a request and not the data associated with it."
   ]
  },
  {
   "cell_type": "code",
   "execution_count": 52,
   "metadata": {},
   "outputs": [],
   "source": [
    "# grab the request data from the input match ID\n",
    "def get_match(match_ID: int) -> requests.Response:\n",
    "    # grab the info from the page\n",
    "    return requester.get(f'https://sendou.ink/q/match/{match_ID}')\n",
    "\n",
    "# grab the json data from the given request\n",
    "def match_json(r: requests.Response) -> list | dict:\n",
    "    assert(r.ok)\n",
    "\n",
    "    start_phrase = '\"features/sendouq/routes/q.match.$id\":'\n",
    "\n",
    "    # find the start_phrase in the result\n",
    "    start_index = r.text.find(start_phrase)\n",
    "\n",
    "    # copy all text after the start_phrase\n",
    "    data = r.text[start_index + len(start_phrase):]\n",
    "\n",
    "    # find the end_index by looking for balanced parentheses\n",
    "    open_parentheses = 0\n",
    "    in_quotes = False       # flag if we're in quotes\n",
    "    escaped = False         # flag if we're escaped\n",
    "    for i, c in enumerate(data):\n",
    "        # if we're escaped, ignore this character\n",
    "        if escaped:\n",
    "            escaped = False\n",
    "            continue\n",
    "        if c == '\\\\':\n",
    "            escaped = True\n",
    "            continue\n",
    "\n",
    "        # When we see a quote, toggle the flag in_quotes. This will prevent us\n",
    "        # from counting brackets found in names of strings. To see where this\n",
    "        # would be a problem, see match 37500 where a player has the name\n",
    "        # \"プ{Doωm'\"\n",
    "        if c == '\"':\n",
    "            in_quotes = not in_quotes\n",
    "            continue\n",
    "        if in_quotes:\n",
    "            continue\n",
    "\n",
    "        if c == '{':\n",
    "            open_parentheses += 1\n",
    "        elif c == '}':\n",
    "            open_parentheses -= 1\n",
    "        if open_parentheses == 0:\n",
    "            break\n",
    "    end_index = i + 1\n",
    "\n",
    "    # trim off the extra data\n",
    "    return json.loads(data[:end_index])\n",
    "\n",
    "# small test to make sure a match with a player named \"プ{Doωm'\" will work\n",
    "# match_ID = 37500\n",
    "# r = get_match(match_ID)\n",
    "# assert(r.ok)\n",
    "# j = match_json(r)\n",
    "# assert(j['match']['isLocked'])"
   ]
  },
  {
   "cell_type": "markdown",
   "metadata": {},
   "source": [
    "The first match is match `1` (this service is surprisingly not zero-indexed). However, the last match, the most recent one, is always changing. We can find this match using a binary search algorithm. All matches which exist should return a status code of `200`, meaning that it exists. Additionally, all match IDs which don't yet exist should return error code `404`. Since we have a range of values which all appear before the index we want to find, and a different range which appears only after the index, we can use binary search."
   ]
  },
  {
   "cell_type": "code",
   "execution_count": 58,
   "metadata": {},
   "outputs": [
    {
     "name": "stdout",
     "output_type": "stream",
     "text": [
      "Searching range 1-100000:\n",
      "0%\n",
      "5.9%\n",
      "11.8%\n",
      "17.6%\n",
      "23.5%\n",
      "29.4%\n",
      "35.3%\n",
      "41.2%\n",
      "47.1%\n",
      "52.9%\n",
      "58.8%\n",
      "64.7%\n",
      "70.6%\n",
      "76.5%\n",
      "82.4%\n",
      "88.2%\n",
      "94.1%\n",
      "Found the last match: 45656.\n"
     ]
    }
   ],
   "source": [
    "OK = 200\n",
    "NOT_FOUND = 404\n",
    "\n",
    "# starting value for the last match.\n",
    "# it's very possible far in the future that this will no longer be greater than \n",
    "# the actual last match, which is why this algorithm uses two loops and not one\n",
    "if 'search_interval' not in locals():\n",
    "    search_interval = 100000\n",
    "\n",
    "\n",
    "if 'last_match' in locals():\n",
    "    L = last_match  # type: ignore\n",
    "else:\n",
    "    L = 1\n",
    "\n",
    "R = search_interval\n",
    "found_last_match = False\n",
    "\n",
    "while not found_last_match:\n",
    "    # define variables for our percentage estimate\n",
    "    search_range = R - L + 1\n",
    "    max_searches = math.floor(math.log2(search_range)) + 1\n",
    "    searches = 0\n",
    "    print(f\"Searching range {L}-{R}:\\n0%\")\n",
    "\n",
    "    # search loop using binary search\n",
    "    while L <= R:\n",
    "        m = (L + R) // 2\n",
    "        r = get_match(m)\n",
    "        if r.ok:\n",
    "            # Check if this match is locked or not (locked meaning the match\n",
    "            # has concluded). If the match is unfinished, consider it to the \n",
    "            # right of the last match\n",
    "            if match_json(r)['match']['isLocked']:\n",
    "                L = m + 1\n",
    "            else:\n",
    "                R = m - 1\n",
    "        elif r.status_code == NOT_FOUND:\n",
    "            R = m - 1\n",
    "        else:\n",
    "            raise RuntimeError(f\"Got an unexpected error code {r.status_code} ({r.reason})\")\n",
    "    \n",
    "        searches += 1\n",
    "        print(f\"{searches/max_searches:.1%}\")\n",
    "\n",
    "    if R < search_interval:\n",
    "        found_last_match = True\n",
    "    else:\n",
    "        # in the rare case that this code is being run years into the future \n",
    "        # where there have been more than 100,000 matches played, expanded our\n",
    "        # search interval and search again\n",
    "        print(f\"There have been more games played than {search_interval}!\")\n",
    "        L = search_interval + 1\n",
    "        search_interval *= 2\n",
    "        R = search_interval\n",
    "        print(f\"Searching again up to {search_interval} games.\")\n",
    "\n",
    "\n",
    "# once the loop is complete, R is the last match\n",
    "last_match = R\n",
    "print(f\"Found the last match: {last_match}.\")"
   ]
  }
 ],
 "metadata": {
  "kernelspec": {
   "display_name": "Python 3",
   "language": "python",
   "name": "python3"
  },
  "language_info": {
   "codemirror_mode": {
    "name": "ipython",
    "version": 3
   },
   "file_extension": ".py",
   "mimetype": "text/x-python",
   "name": "python",
   "nbconvert_exporter": "python",
   "pygments_lexer": "ipython3",
   "version": "3.12.1"
  }
 },
 "nbformat": 4,
 "nbformat_minor": 2
}
