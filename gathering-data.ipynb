{
 "cells": [
  {
   "cell_type": "markdown",
   "metadata": {},
   "source": [
    "# Gathering Data\n",
    "\n",
    "## Imports\n",
    "\n",
    "- requests: Necessary to pull data from the internet"
   ]
  },
  {
   "cell_type": "code",
   "execution_count": 1,
   "metadata": {},
   "outputs": [],
   "source": [
    "import requests"
   ]
  },
  {
   "cell_type": "markdown",
   "metadata": {},
   "source": [
    "## Pre-Info\n",
    "\n",
    "Data for this project will be obtained from SendouQ match data, found at `https://sendou.ink/q/match/[ID]`. The ID numbers increase sequentially, with the first match ever having an ID of 1, and the current last match (at the time of writing) having an ID around 45400.\n",
    "\n",
    "I use a sample match from my most recent one at the time, which can be found with ID [45359](https://sendou.ink/q/match/45359).\n",
    "\n",
    "The data we're interested in is only two things, the score of every player in the game, and the result of the match. Since this information is shown on the screen, it should be possible to extract this data from the page source.\n",
    "\n",
    "Looking at the page source, it's not easily decipherable at first glance, especially since I have little knowledge of web-dev. However, after some investigation, there is some json data which contains the data we're looking for which can be found immediately after the phrase `\"features/sendouq/routes/q.match.$id\":` and taking the next text until the bracket ends."
   ]
  },
  {
   "cell_type": "code",
   "execution_count": 4,
   "metadata": {},
   "outputs": [
    {
     "name": "stdout",
     "output_type": "stream",
     "text": [
      "{\"match\":{\"id\":45359,\"alphaGroupId\":376816,\"bravoGroupId\":376815,\"createdAt\":1714701635,\"reportedAt\":1714704978,\"reportedByUserId\":5317,\"memento\":{\"modePreferences\":{\"TC\":[{\"userId\":1117,\"preference\":\"PREFER\"},{\"userId\":3168},{\"userId\":5317,\"preference\":\"PREFER\"},{\"userId\":160},{\"userId\":4275,\"preference\":\"AVOID\"},{\"userId\":20583,\"preference\":\"AVOID\"}],\"SZ\":[{\"userId\":1117,\"preference\":\"PREFER\"},{\"userId\":3168},{\"userId\":5317,\"preference\":\"PREFER\"},{\"userId\":160,\"preference\":\"PREFER\"},{\"userId\":4275,\"preference\":\"PREFER\"},{\"userId\":20583,\"preference\":\"PREFER\"}]},\"pools\":[{\"userId\":1117,\"pool\":[{\"stages\":[2,7,8,10,11,15,22],\"mode\":\"SZ\"},{\"stages\":[2,3,6,8,10,19,22],\"mode\":\"TC\"},{\"stages\":[0,3,6,14,16,18,21],\"mode\":\"RM\"},{\"stages\":[0,6,8,10,17,18,22],\"mode\":\"CB\"}]},{\"userId\":3168,\"pool\":[{\"stages\":[2,6,7,8,10,16,22],\"mode\":\"SZ\"},{\"stages\":[2,6,8,10,14,16,22],\"mode\":\"TC\"},{\"stages\":[0,6,8,10,14,16,17],\"mode\":\"CB\"},{\"stages\":[0,6,14,16,17,21,22],\"mode\":\"RM\"}]},{\"userId\":5317,\"pool\":[{\"stages\":[2,6,7,8,10,17,21],\"mode\":\"SZ\"},{\"stages\":[0,2,3,4,6,18,22],\"mode\":\"RM\"},{\"stages\":[2,3,8,9,10,19,22],\"mode\":\"TC\"},{\"stages\":[0,6,8,10,15,17,18],\"mode\":\"CB\"}]},{\"userId\":160,\"pool\":[{\"stages\":[7,10,12,15,16,21,22],\"mode\":\"SZ\"},{\"stages\":[2,3,8,9,10,16,22],\"mode\":\"TC\"},{\"stages\":[6,10,15,17,18,21,22],\"mode\":\"CB\"}]},{\"userId\":4275,\"pool\":[{\"stages\":[2,7,8,10,13,17,18],\"mode\":\"SZ\"}]},{\"userId\":20583,\"pool\":[{\"stages\":[2,5,7,13,15,17,21],\"mode\":\"SZ\"}]}],\"users\":{\"160\":{\"plusTier\":1,\"skill\":{\"ordinal\":29.049225431933444,\"tier\":{\"name\":\"LEVIATHAN\",\"isPlus\":false},\"approximate\":false},\"skillDifference\":{\"calculated\":true,\"spDiff\":-19.03}},\"1117\":{\"plusTier\":2,\"skill\":{\"ordinal\":23.189129414253898,\"tier\":{\"name\":\"DIAMOND\",\"isPlus\":true},\"approximate\":false},\"skillDifference\":{\"calculated\":true,\"spDiff\":22.81}},\"2551\":{\"plusTier\":3,\"skill\":{\"ordinal\":25.8303791446169,\"tier\":{\"name\":\"DIAMOND\",\"isPlus\":true},\"approximate\":false},\"skillDifference\":{\"calculated\":true,\"spDiff\":19.28}},\"3168\":{\"plusTier\":3,\"skill\":{\"ordinal\":23.431072851780918,\"tier\":{\"name\":\"DIAMOND\",\"isPlus\":true},\"approximate\":false},\"skillDifference\":{\"calculated\":true,\"spDiff\":21.62}},\"4275\":{\"skill\":{\"ordinal\":24.00009753744956,\"tier\":{\"name\":\"DIAMOND\",\"isPlus\":true},\"approximate\":false},\"skillDifference\":{\"calculated\":true,\"spDiff\":-19.29}},\"5317\":{\"plusTier\":2,\"skill\":{\"ordinal\":19.726415339139816,\"tier\":{\"name\":\"PLATINUM\",\"isPlus\":true},\"approximate\":false},\"skillDifference\":{\"calculated\":true,\"spDiff\":25.58}},\"11517\":{\"plusTier\":1,\"skill\":{\"ordinal\":38.153938142944824,\"tier\":{\"name\":\"LEVIATHAN\",\"isPlus\":true},\"approximate\":false},\"skillDifference\":{\"calculated\":true,\"spDiff\":-15.08}},\"20583\":{\"plusTier\":1,\"skill\":{\"ordinal\":31.82404177844055,\"tier\":{\"name\":\"LEVIATHAN\",\"isPlus\":true},\"approximate\":false},\"skillDifference\":{\"calculated\":true,\"spDiff\":-23.44}}},\"groups\":{\"376815\":{\"tier\":{\"name\":\"LEVIATHAN\",\"isPlus\":false},\"skillDifference\":{\"calculated\":false,\"matchesCount\":3,\"matchesCountNeeded\":7}},\"376816\":{\"tier\":{\"name\":\"DIAMOND\",\"isPlus\":true},\"skillDifference\":{\"calculated\":false,\"matchesCount\":2,\"matchesCountNeeded\":7}}}},\"isLocked\":1,\"mapList\":[{\"id\":317507,\"mode\":\"TC\",\"stageId\":3,\"source\":\"BOTH\",\"winnerGroupId\":376815},{\"id\":317508,\"mode\":\"SZ\",\"stageId\":15,\"source\":\"BOTH\",\"winnerGroupId\":376816},{\"id\":317509,\"mode\":\"TC\",\"stageId\":16,\"source\":\"BOTH\",\"winnerGroupId\":376815},{\"id\":317510,\"mode\":\"SZ\",\"stageId\":6,\"source\":\"376816\",\"winnerGroupId\":376815},{\"id\":317511,\"mode\":\"TC\",\"stageId\":9,\"source\":\"376815\",\"winnerGroupId\":376816},{\"id\":317512,\"mode\":\"SZ\",\"stageId\":7,\"source\":\"376816\",\"winnerGroupId\":376816},{\"id\":317513,\"mode\":\"TC\",\"stageId\":22,\"source\":\"376815\",\"winnerGroupId\":376816}]},\"matchChatCode\":null,\"canPostChatMessages\":false,\"groupChatCode\":null,\"groupAlpha\":{\"id\":376816,\"tier\":{\"name\":\"DIAMOND\",\"isPlus\":true},\"skillDifference\":{\"calculated\":false,\"matchesCount\":2,\"matchesCountNeeded\":7},\"team\":null,\"members\":[{\"id\":1117,\"discordName\":\"Crim\",\"discordId\":\"206930310611468288\",\"discordAvatar\":\"f22f6015bdad956c75f34913a3b57331\",\"customUrl\":\"creativepositioning\",\"role\":\"OWNER\",\"inGameName\":\"InC сяiм#2902\",\"vc\":\"YES\",\"languages\":[\"en\"],\"weapons\":[4030,3000,2070,251],\"privateNote\":null,\"chatNameColor\":null,\"plusTier\":2,\"skill\":{\"ordinal\":23.189129414253898,\"tier\":{\"name\":\"DIAMOND\",\"isPlus\":true},\"approximate\":false},\"skillDifference\":{\"calculated\":true,\"spDiff\":22.81}},{\"id\":2551,\"discordName\":\"ToastyDinner\",\"discordId\":\"401884291685941278\",\"discordAvatar\":\"f5a2529df2f54f7722a7ebbfc7f7bbb7\",\"customUrl\":\"toastydinner\",\"role\":\"MANAGER\",\"inGameName\":\"Toast#4547\",\"vc\":\"YES\",\"languages\":[\"en\"],\"weapons\":[3020,3000,210],\"privateNote\":null,\"chatNameColor\":null,\"plusTier\":3,\"skill\":{\"ordinal\":25.8303791446169,\"tier\":{\"name\":\"DIAMOND\",\"isPlus\":true},\"approximate\":false},\"skillDifference\":{\"calculated\":true,\"spDiff\":19.28}},{\"id\":3168,\"discordName\":\"Dantheman\",\"discordId\":\"543210029613056035\",\"discordAvatar\":\"ed5123570e67c8e81d11a25d346321cb\",\"customUrl\":\"thehappyinkling\",\"role\":\"MANAGER\",\"inGameName\":\"GGsDαη!#7391\",\"vc\":\"YES\",\"languages\":[\"en\"],\"weapons\":[71,40,41,60],\"privateNote\":null,\"chatNameColor\":null,\"plusTier\":3,\"skill\":{\"ordinal\":23.431072851780918,\"tier\":{\"name\":\"DIAMOND\",\"isPlus\":true},\"approximate\":false},\"skillDifference\":{\"calculated\":true,\"spDiff\":21.62}},{\"id\":5317,\"discordName\":\"beam\",\"discordId\":\"167427360059162625\",\"discordAvatar\":\"7ce6c3747cbb35efe5e4ff346b9a28eb\",\"customUrl\":\"beam\",\"role\":\"MANAGER\",\"inGameName\":\"InC Beam#2679\",\"vc\":\"YES\",\"languages\":[\"en\"],\"weapons\":[8000,8001,40,60],\"privateNote\":null,\"chatNameColor\":null,\"plusTier\":2,\"skill\":{\"ordinal\":19.726415339139816,\"tier\":{\"name\":\"PLATINUM\",\"isPlus\":true},\"approximate\":false},\"skillDifference\":{\"calculated\":true,\"spDiff\":25.58}}]},\"groupBravo\":{\"id\":376815,\"tier\":{\"name\":\"LEVIATHAN\",\"isPlus\":false},\"skillDifference\":{\"calculated\":false,\"matchesCount\":3,\"matchesCountNeeded\":7},\"team\":null,\"members\":[{\"id\":160,\"discordName\":\"Chara\",\"discordId\":\"143918846535925761\",\"discordAvatar\":\"d1029e83dd683f8534dd4b8fe9b5925a\",\"customUrl\":\"chara\",\"role\":\"OWNER\",\"inGameName\":null,\"vc\":\"YES\",\"languages\":[\"en\"],\"weapons\":[220],\"privateNote\":null,\"chatNameColor\":null,\"plusTier\":1,\"skill\":{\"ordinal\":29.049225431933444,\"tier\":{\"name\":\"LEVIATHAN\",\"isPlus\":false},\"approximate\":false},\"skillDifference\":{\"calculated\":true,\"spDiff\":-19.03}},{\"id\":4275,\"discordName\":\"bab\",\"discordId\":\"724498097547509792\",\"discordAvatar\":\"d8f8993ecf203d6f63231a0a06652bb1\",\"customUrl\":\"bab\",\"role\":\"REGULAR\",\"inGameName\":null,\"vc\":\"LISTEN_ONLY\",\"languages\":[\"en\"],\"weapons\":[2070,60,251],\"privateNote\":null,\"chatNameColor\":null,\"skill\":{\"ordinal\":24.00009753744956,\"tier\":{\"name\":\"DIAMOND\",\"isPlus\":true},\"approximate\":false},\"skillDifference\":{\"calculated\":true,\"spDiff\":-19.29}},{\"id\":11517,\"discordName\":\"xenith\",\"discordId\":\"936048087791702087\",\"discordAvatar\":\"cb98ff40482893c8bf0af3c9d9172eba\",\"customUrl\":\"xenith\",\"role\":\"REGULAR\",\"inGameName\":null,\"vc\":\"LISTEN_ONLY\",\"languages\":[\"en\"],\"weapons\":[8010,40,8001],\"privateNote\":null,\"chatNameColor\":null,\"plusTier\":1,\"skill\":{\"ordinal\":38.153938142944824,\"tier\":{\"name\":\"LEVIATHAN\",\"isPlus\":true},\"approximate\":false},\"skillDifference\":{\"calculated\":true,\"spDiff\":-15.08}},{\"id\":20583,\"discordName\":\"sunguraa\",\"discordId\":\"394204866089713666\",\"discordAvatar\":\"9368e9d4e16058e17be92195940a802c\",\"customUrl\":\"sungura\",\"role\":\"REGULAR\",\"inGameName\":null,\"vc\":\"YES\",\"languages\":[\"en\"],\"weapons\":[2021],\"privateNote\":null,\"chatNameColor\":null,\"plusTier\":1,\"skill\":{\"ordinal\":31.82404177844055,\"tier\":{\"name\":\"LEVIATHAN\",\"isPlus\":true},\"approximate\":false},\"skillDifference\":{\"calculated\":true,\"spDiff\":-23.44}}]},\"banScreen\":null,\"groupMemberOf\":null,\"reportedWeapons\":[[null,null,60,8000,3041,60,null,null],[null,null,60,8001,3041,60,null,null],[null,null,60,40,220,60,null,null],[null,null,60,8001,3041,60,null,null],[null,null,60,40,3041,60,null,null],[null,null,60,40,3041,60,null,null],[null,null,60,40,220,60,null,null]],\"rawReportedWeapons\":[{\"groupMatchMapId\":317507,\"weaponSplId\":8000,\"userId\":5317,\"mapIndex\":0},{\"groupMatchMapId\":317507,\"weaponSplId\":60,\"userId\":4275,\"mapIndex\":0},{\"groupMatchMapId\":317507,\"weaponSplId\":3041,\"userId\":160,\"mapIndex\":0},{\"groupMatchMapId\":317507,\"weaponSplId\":60,\"userId\":3168,\"mapIndex\":0},{\"groupMatchMapId\":317508,\"weaponSplId\":8001,\"userId\":5317,\"mapIndex\":1},{\"groupMatchMapId\":317508,\"weaponSplId\":60,\"userId\":4275,\"mapIndex\":1},{\"groupMatchMapId\":317508,\"weaponSplId\":3041,\"userId\":160,\"mapIndex\":1},{\"groupMatchMapId\":317508,\"weaponSplId\":60,\"userId\":3168,\"mapIndex\":1},{\"groupMatchMapId\":317509,\"weaponSplId\":40,\"userId\":5317,\"mapIndex\":2},{\"groupMatchMapId\":317509,\"weaponSplId\":60,\"userId\":4275,\"mapIndex\":2},{\"groupMatchMapId\":317509,\"weaponSplId\":220,\"userId\":160,\"mapIndex\":2},{\"groupMatchMapId\":317509,\"weaponSplId\":60,\"userId\":3168,\"mapIndex\":2},{\"groupMatchMapId\":317510,\"weaponSplId\":8001,\"userId\":5317,\"mapIndex\":3},{\"groupMatchMapId\":317510,\"weaponSplId\":60,\"userId\":4275,\"mapIndex\":3},{\"groupMatchMapId\":317510,\"weaponSplId\":3041,\"userId\":160,\"mapIndex\":3},{\"groupMatchMapId\":317510,\"weaponSplId\":60,\"userId\":3168,\"mapIndex\":3},{\"groupMatchMapId\":317511,\"weaponSplId\":40,\"userId\":5317,\"mapIndex\":4},{\"groupMatchMapId\":317511,\"weaponSplId\":60,\"userId\":4275,\"mapIndex\":4},{\"groupMatchMapId\":317511,\"weaponSplId\":3041,\"userId\":160,\"mapIndex\":4},{\"groupMatchMapId\":317511,\"weaponSplId\":60,\"userId\":3168,\"mapIndex\":4},{\"groupMatchMapId\":317512,\"weaponSplId\":40,\"userId\":5317,\"mapIndex\":5},{\"groupMatchMapId\":317512,\"weaponSplId\":60,\"userId\":4275,\"mapIndex\":5},{\"groupMatchMapId\":317512,\"weaponSplId\":3041,\"userId\":160,\"mapIndex\":5},{\"groupMatchMapId\":317512,\"weaponSplId\":60,\"userId\":3168,\"mapIndex\":5},{\"groupMatchMapId\":317513,\"weaponSplId\":40,\"userId\":5317,\"mapIndex\":6},{\"groupMatchMapId\":317513,\"weaponSplId\":60,\"userId\":4275,\"mapIndex\":6},{\"groupMatchMapId\":317513,\"weaponSplId\":220,\"userId\":160,\"mapIndex\":6},{\"groupMatchMapId\":317513,\"weaponSplId\":60,\"userId\":3168,\"mapIndex\":6}]}\n"
     ]
    }
   ],
   "source": [
    "match_ID = '45359'\n",
    "\n",
    "# grab the data from the page\n",
    "r = requests.get('https://sendou.ink/q/match/' + match_ID)\n",
    "start_phrase = '\"features/sendouq/routes/q.match.$id\":'\n",
    "\n",
    "# find the start_phrase in the result\n",
    "start_index = r.text.find(start_phrase)\n",
    "\n",
    "# copy all text after the start_phrase\n",
    "data = r.text[start_index + len(start_phrase):]\n",
    "\n",
    "# find the end_index by looking for balanced parentheses\n",
    "open_parentheses = 0\n",
    "for i, c in enumerate(data):\n",
    "    if c == '{':\n",
    "        open_parentheses += 1\n",
    "    elif c == '}':\n",
    "        open_parentheses -= 1\n",
    "    if open_parentheses == 0:\n",
    "        break\n",
    "end_index = i + 1\n",
    "\n",
    "# trim off the extra data\n",
    "data = data[:end_index]\n",
    "\n",
    "# print out data (use an external tool to visualize the json like https://codebeautify.org/jsonviewer)\n",
    "print(data)"
   ]
  },
  {
   "cell_type": "markdown",
   "metadata": {},
   "source": [
    "Visualize this data on any json visualizer, I personally used [codebeautify](https://codebeautify.org/jsonviewer). The first data we want to obtain is the ratings of the players. This can be found at `groupAlpha.members[0-3].skill.ordinal` for the left team, and replace `groupAlpha` with `groupBeta` for the right team.\n",
    "\n",
    "However, this value is not what we might expect. From the website, player ratings, which can be seen by clicking on the pictures of the ranks, show a number around 1200-1700. However, the value in data is a smaller number between 0-50. Therefore, there must be some conversion to obtain the rating from the ordinal.\n",
    "\n",
    "We can compare ordinals vs. ratings to see how we can write a conversion function. This data is mostly from the game I was using above, and then some data from the match with the ID right before (ID: `45359`).\n",
    "\n",
    "| ordinal $(o)$ | rating $(\\mathrm R)$ |\n",
    "|---|---|\n",
    "|23.189129414253898|1348|\n",
    "|25.8303791446169|1387|\n",
    "|23.431072851780918|1351|\n",
    "|19.726415339139816|1296|\n",
    "|29.049225431933444|1436|\n",
    "|24.00009753744956|1360|\n",
    "|38.153938142944824|1572|\n",
    "|31.82404177844055|1477|\n",
    "|11.527993868993082|1173|\n",
    "|7.477124875867283|1112|\n",
    "\n",
    "If you graph this data, you can find a linear correlation, with the only error being a very small rounding error. Thus, we can create a function to convert from ordinal to rating.\n",
    "$$\\operatorname R(o) = 15o + 1000$$"
   ]
  }
 ],
 "metadata": {
  "kernelspec": {
   "display_name": "Python 3",
   "language": "python",
   "name": "python3"
  },
  "language_info": {
   "codemirror_mode": {
    "name": "ipython",
    "version": 3
   },
   "file_extension": ".py",
   "mimetype": "text/x-python",
   "name": "python",
   "nbconvert_exporter": "python",
   "pygments_lexer": "ipython3",
   "version": "3.12.1"
  }
 },
 "nbformat": 4,
 "nbformat_minor": 2
}
